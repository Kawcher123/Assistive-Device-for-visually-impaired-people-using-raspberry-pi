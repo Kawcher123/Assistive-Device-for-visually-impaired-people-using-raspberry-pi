{
  "nbformat": 4,
  "nbformat_minor": 0,
  "metadata": {
    "colab": {
      "provenance": [],
      "authorship_tag": "ABX9TyORT2c8ioLQ/vtJGcJRpH4B",
      "include_colab_link": true
    },
    "kernelspec": {
      "name": "python3",
      "display_name": "Python 3"
    },
    "language_info": {
      "name": "python"
    }
  },
  "cells": [
    {
      "cell_type": "markdown",
      "metadata": {
        "id": "view-in-github",
        "colab_type": "text"
      },
      "source": [
        "<a href=\"https://colab.research.google.com/github/Kawcher123/Assistive-Device-for-visually-impaired-people-using-raspberry-pi/blob/master/cse203L_08_assignment01_2010153.ipynb\" target=\"_parent\"><img src=\"https://colab.research.google.com/assets/colab-badge.svg\" alt=\"Open In Colab\"/></a>"
      ]
    },
    {
      "cell_type": "code",
      "execution_count": 1,
      "metadata": {
        "colab": {
          "base_uri": "https://localhost:8080/"
        },
        "id": "Ct4GSj4tWI2p",
        "outputId": "d5cc2d0e-9e34-4b7f-beef-5c6e3780ecf7"
      },
      "outputs": [
        {
          "output_type": "stream",
          "name": "stdout",
          "text": [
            "enter strin 1:Hello\n",
            "enter strin 2:World\n",
            "False\n"
          ]
        }
      ],
      "source": [
        "#Basic Python\n",
        "#p-1\n",
        "\n",
        "def areAnagram(s1,s2):\n",
        "  if sorted(s1)==sorted(s2):\n",
        "    print(True)\n",
        "  else:\n",
        "    print(False)\n",
        "\n",
        "s1=input('enter strin 1:')\n",
        "s2=input('enter strin 2:')\n",
        "areAnagram(s1,s2)"
      ]
    },
    {
      "cell_type": "code",
      "source": [
        "#p-2\n",
        "\n",
        "def sortedByLen(lst):\n",
        "  newList=sorted(lst,key=len)\n",
        "  return newList\n",
        "\n",
        "lst=['abcde','abe','a','bcde','asd']\n",
        "print(sortedByLen(lst))"
      ],
      "metadata": {
        "colab": {
          "base_uri": "https://localhost:8080/"
        },
        "id": "0XL_IxpIWr-X",
        "outputId": "f25119e7-9da4-4487-abfc-35e7ca8cc64a"
      },
      "execution_count": 2,
      "outputs": [
        {
          "output_type": "stream",
          "name": "stdout",
          "text": [
            "['a', 'abe', 'asd', 'bcde', 'abcde']\n"
          ]
        }
      ]
    },
    {
      "cell_type": "code",
      "source": [
        "#p-3\n",
        "\n",
        "def removeDuplicate(lst):\n",
        "  temp=[]\n",
        "  for item in lst:\n",
        "    if item not in temp:\n",
        "      temp.append(item)\n",
        "  return temp\n",
        "\n",
        "lst=[1,3,1,4,5,6,3,2]\n",
        "print(removeDuplicate(lst))"
      ],
      "metadata": {
        "colab": {
          "base_uri": "https://localhost:8080/"
        },
        "id": "3heJlSjRXR6j",
        "outputId": "805f59d6-ddba-4c5a-8ec0-8b84ded0efe1"
      },
      "execution_count": 3,
      "outputs": [
        {
          "output_type": "stream",
          "name": "stdout",
          "text": [
            "[1, 3, 4, 5, 6, 2]\n"
          ]
        }
      ]
    },
    {
      "cell_type": "code",
      "source": [
        "#p-4\n",
        "def printAst(n):\n",
        "  i=1\n",
        "  while i<=n:\n",
        "    print(\"*\"*i)\n",
        "    i+=1\n",
        "\n",
        "n=int(input('enter a number:'))\n",
        "printAst(n)"
      ],
      "metadata": {
        "colab": {
          "base_uri": "https://localhost:8080/"
        },
        "id": "YFgvEGIrX7z5",
        "outputId": "71604448-3aa1-4c81-8f80-f8ef0975339f"
      },
      "execution_count": 4,
      "outputs": [
        {
          "output_type": "stream",
          "name": "stdout",
          "text": [
            "enter a number:5\n",
            "*\n",
            "**\n",
            "***\n",
            "****\n",
            "*****\n"
          ]
        }
      ]
    },
    {
      "cell_type": "code",
      "source": [
        "#p-5\n",
        "\n",
        "def countVowelConsonent(s):\n",
        "  vowel=0\n",
        "  conso=0\n",
        "  for item in s:\n",
        "    if item.isalpha():\n",
        "      if (item.lower()=='a' or item.lower()=='e' or item.lower()=='i' or item.lower()=='o' or item.lower()=='u'):\n",
        "        vowel+=1\n",
        "      else:\n",
        "        conso+=1\n",
        "  print(\"Number of vowels:\", vowel)\n",
        "  print(\"Number of consonants:\", conso)\n",
        "\n",
        "s=input('Enter a string:')\n",
        "\n",
        "countVowelConsonent(s)"
      ],
      "metadata": {
        "colab": {
          "base_uri": "https://localhost:8080/"
        },
        "id": "lZEXohv_YQ69",
        "outputId": "167955aa-6d8a-4bb6-f554-ce9bccf8160b"
      },
      "execution_count": 5,
      "outputs": [
        {
          "output_type": "stream",
          "name": "stdout",
          "text": [
            "Enter a string:‘Hello, Python! How are you?`\n",
            "Number of vowels: 8\n",
            "Number of consonants: 12\n"
          ]
        }
      ]
    },
    {
      "cell_type": "code",
      "source": [
        "#Single Linked List:\n",
        "\n",
        "class Node:\n",
        "  def __init__(self, data):\n",
        "    self.data = data\n",
        "    self.next = None\n",
        "\n",
        "class SinglyLinkedList:\n",
        "  def __init__(self):\n",
        "    self.head = None\n",
        "    self.size = 0\n",
        "\n",
        "# Append data to the end of the linked list; naive approach\n",
        "  def append(self, new_data):\n",
        "    new_node = Node(new_data)\n",
        "    if self.head is None:\n",
        "      self.head = new_node\n",
        "    else:\n",
        "      current_node = self.head\n",
        "      while current_node.next is not None:\n",
        "        current_node = current_node.next\n",
        "      current_node.next = new_node\n",
        "    self.size += 1\n",
        "\n",
        "  def getSize(self):\n",
        "    return self.size\n",
        "\n",
        "# print the linked list\n",
        "  def print_all(self):\n",
        "    print(\"List:\")\n",
        "    current_node = self.head\n",
        "    while current_node!=None:\n",
        "      if(current_node.next == None):\n",
        "        print(current_node.data)\n",
        "      else:\n",
        "        print(current_node.data, end='->>')\n",
        "      current_node = current_node.next\n",
        "\n",
        "\n",
        "# search a specific value in the linked list\n",
        "  def search(self, data):\n",
        "    current_node = self.head\n",
        "    while current_node is not None:\n",
        "      if current_node.data == data:\n",
        "        return True\n",
        "      current_node = current_node.next\n",
        "    return False\n",
        "\n",
        "  def reverseList(self):\n",
        "    if self.head == None:\n",
        "        return None\n",
        "    else:\n",
        "        prev = None\n",
        "        current = self.head\n",
        "        while current != None:\n",
        "            next = current.next\n",
        "            current.next = prev\n",
        "            prev = current\n",
        "            current = next\n",
        "        return prev\n",
        "\n",
        "\n",
        "\n",
        "\n",
        "\n"
      ],
      "metadata": {
        "id": "trFKh0poY33z"
      },
      "execution_count": 59,
      "outputs": []
    },
    {
      "cell_type": "code",
      "source": [
        "#p-1\n",
        "\n",
        "def merge_list(lst1,lst2):\n",
        "    temp=SinglyLinkedList()\n",
        "\n",
        "    current1=lst1.head\n",
        "    current2=lst2.head\n",
        "\n",
        "    while current1 and current2:\n",
        "      if current1.data<current2.data:\n",
        "        temp.append(current1.data)\n",
        "        current1=current1.next\n",
        "      else:\n",
        "        temp.append(current2.data)\n",
        "        current2=current2.next\n",
        "    while current1:\n",
        "      temp.append(current1.data)\n",
        "      current1=current1.next\n",
        "    while current2:\n",
        "      temp.append(current2.data)\n",
        "      current2=current2.next\n",
        "\n",
        "    return temp\n",
        "\n",
        "\n",
        "lst1=SinglyLinkedList()\n",
        "lst2=SinglyLinkedList()\n",
        "\n",
        "lst1.append(1)\n",
        "lst1.append(2)\n",
        "lst1.append(4)\n",
        "\n",
        "lst2.append(1)\n",
        "lst2.append(3)\n",
        "lst2.append(4)\n",
        "\n",
        "newList=merge_list(lst1,lst2)\n",
        "\n",
        "newList.print_all()"
      ],
      "metadata": {
        "colab": {
          "base_uri": "https://localhost:8080/"
        },
        "id": "F8uxULXAeTzf",
        "outputId": "7064dd2f-883f-4da7-89e7-593f191eeb97"
      },
      "execution_count": 57,
      "outputs": [
        {
          "output_type": "stream",
          "name": "stdout",
          "text": [
            "List:\n",
            "1->>1->>2->>3->>4->>4\n"
          ]
        }
      ]
    },
    {
      "cell_type": "code",
      "source": [
        "#p-2\n",
        "def checkPalidrome(lst1):\n",
        "  if lst1.head==None:\n",
        "    return False\n",
        "\n",
        "  current=lst1.head\n",
        "  lst2=SinglyLinkedList()\n",
        "  while current:\n",
        "    lst2.append(current.data)\n",
        "    current=current.next\n",
        "\n",
        "  reverseList=lst1.reverseList()\n",
        "\n",
        "  current1=lst2.head\n",
        "  current2=reverseList\n",
        "  while current1 and current2:\n",
        "    if current1.data!=current2.data:\n",
        "      return False\n",
        "    current1=current1.next\n",
        "    current2=current2.next\n",
        "\n",
        "  if current1==None and current2==None:\n",
        "    return True\n",
        "  else:\n",
        "    return False\n",
        "\n",
        "lst1=SinglyLinkedList()\n",
        "\n",
        "lst1.append(1)\n",
        "lst1.append(2)\n",
        "lst1.append(3)\n",
        "lst1.append(2)\n",
        "lst1.append(4)\n",
        "\n",
        "print(checkPalidrome(lst1))\n"
      ],
      "metadata": {
        "colab": {
          "base_uri": "https://localhost:8080/"
        },
        "id": "AG48ToFleaYo",
        "outputId": "d807fc1d-9170-4348-84a4-f0fb5bc85b89"
      },
      "execution_count": 62,
      "outputs": [
        {
          "output_type": "stream",
          "name": "stdout",
          "text": [
            "False\n"
          ]
        }
      ]
    },
    {
      "cell_type": "code",
      "source": [
        "#p-3\n",
        "\n",
        "def findIntersection(lst1,lst2):\n",
        "  if lst1.head==None or lst2.head==None:\n",
        "    return None\n",
        "  len1=lst1.getSize()\n",
        "  len2=lst2.getSize()\n",
        "\n",
        "  current1=lst1.head\n",
        "  current2=lst2.head\n",
        "\n",
        "  if len1>len2:\n",
        "    for i in range(len1-len2):\n",
        "      current1=current1.next\n",
        "  elif len2>len1:\n",
        "    for i in range(len2-len1):\n",
        "      current2=current2.next\n",
        "\n",
        "  while current1 and current2:\n",
        "    if current1==current2:\n",
        "      return current1\n",
        "    current1=current1.next\n",
        "    current2=current2.next\n",
        "  return None\n",
        "\n"
      ],
      "metadata": {
        "id": "IeXhp7dyjoqr"
      },
      "execution_count": null,
      "outputs": []
    },
    {
      "cell_type": "code",
      "source": [
        "#p-4\n",
        "class Node:\n",
        "  def __init__(self, data):\n",
        "    self.data = data\n",
        "    self.next = None\n",
        "\n",
        "class SinglyLinkedList:\n",
        "  def __init__(self):\n",
        "    self.head = None\n",
        "    self.size = 0\n",
        "\n",
        "# Append data to the end of the linked list; naive approach\n",
        "  def append(self, new_data):\n",
        "    new_node = Node(new_data)\n",
        "    if self.head is None:\n",
        "      self.head = new_node\n",
        "    else:\n",
        "      current_node = self.head\n",
        "      while current_node.next is not None:\n",
        "        current_node = current_node.next\n",
        "      current_node.next = new_node\n",
        "    self.size += 1\n",
        "\n",
        "  def getSize(self):\n",
        "    return self.size\n",
        "\n",
        "# print the linked list\n",
        "  def print_all(self):\n",
        "    print(\"List:\")\n",
        "    current_node = self.head\n",
        "    while current_node!=None:\n",
        "      if(current_node.next == None):\n",
        "        print(current_node.data)\n",
        "      else:\n",
        "        print(current_node.data, end='->>')\n",
        "      current_node = current_node.next\n",
        "\n",
        "\n",
        "# search a specific value in the linked list\n",
        "  def search(self, data):\n",
        "    current_node = self.head\n",
        "    while current_node is not None:\n",
        "      if current_node.data == data:\n",
        "        return True\n",
        "      current_node = current_node.next\n",
        "    return False\n",
        "\n",
        "\n",
        "  def remove(self, data):\n",
        "    if self.head == None:\n",
        "      return\n",
        "    else:\n",
        "      if self.head.data == data:\n",
        "        self.head = self.head.next\n",
        "        self.size -=1\n",
        "      else:\n",
        "        prev = None\n",
        "        current = self.head\n",
        "\n",
        "        while current:\n",
        "          if current.data == data:\n",
        "            prev.next = current.next\n",
        "            current = current.next\n",
        "            self.size -=1\n",
        "          else:\n",
        "            prev = current\n",
        "            current= current.next\n",
        "\n",
        "\n",
        "sll = SinglyLinkedList()\n",
        "sll.append(1)\n",
        "sll.append(2)\n",
        "sll.append(3)\n",
        "sll.append(2)\n",
        "sll.append(4)\n",
        "sll.append(4)\n",
        "sll.append(5)\n",
        "sll.append(2)\n",
        "\n",
        "sll.remove(2)\n",
        "\n",
        "sll.print_all()"
      ],
      "metadata": {
        "colab": {
          "base_uri": "https://localhost:8080/"
        },
        "id": "KEIvQNJ0jsCc",
        "outputId": "19313cb5-1c72-473f-ecab-e034341334c5"
      },
      "execution_count": 55,
      "outputs": [
        {
          "output_type": "stream",
          "name": "stdout",
          "text": [
            "List:\n",
            "1->>3->>4->>4->>5\n"
          ]
        }
      ]
    },
    {
      "cell_type": "code",
      "source": [
        "#p-5\n",
        "def reverseList(head):\n",
        "    if head == None:\n",
        "        return None\n",
        "    else:\n",
        "        prev = None\n",
        "        current = head\n",
        "        while current != None:\n",
        "            next = current.next\n",
        "            current.next = prev\n",
        "            prev = current\n",
        "            current = next\n",
        "        return prev\n",
        "\n",
        "s1 = SinglyLinkedList()\n",
        "s1.append(1)\n",
        "s1.append(2)\n",
        "s1.append(3)\n",
        "s1.append(4)\n",
        "s1.print_all()\n",
        "s1.head = reverseList(s1.head)\n",
        "s1.print_all()"
      ],
      "metadata": {
        "colab": {
          "base_uri": "https://localhost:8080/"
        },
        "id": "G--2fkaBjsNL",
        "outputId": "5a397951-f077-40bd-e2b7-02a1f0e032d2"
      },
      "execution_count": 14,
      "outputs": [
        {
          "output_type": "stream",
          "name": "stdout",
          "text": [
            "List:\n",
            "1->>2->>3->>4\n",
            "List:\n",
            "4->>3->>2->>1\n"
          ]
        }
      ]
    },
    {
      "cell_type": "code",
      "source": [],
      "metadata": {
        "id": "wD21KyWn49OM"
      },
      "execution_count": 24,
      "outputs": []
    },
    {
      "cell_type": "code",
      "source": [
        "# stack queue\n",
        "class Node:\n",
        "  def __init__(self, data):\n",
        "    self.data = data\n",
        "    self.next = None\n",
        "\n",
        "class SinglyLinkedList:\n",
        "  def __init__(self):\n",
        "    self.head = None\n",
        "    self.size = 0\n",
        "\n",
        "  def append(self, new_data):\n",
        "    new_node = Node(new_data)\n",
        "    if self.head is None:\n",
        "      self.head = new_node\n",
        "    else:\n",
        "      current_node = self.head\n",
        "      while current_node.next is not None:\n",
        "        current_node = current_node.next\n",
        "      current_node.next = new_node\n",
        "    self.size += 1\n",
        "\n",
        "  def print_all(self):\n",
        "    current_node = self.head\n",
        "    while current_node != None:\n",
        "      print(current_node.data, end =  \"->\")\n",
        "      current_node = current_node.next\n",
        "    print()\n",
        "\n",
        "  def append_left(self, new_data):\n",
        "    new_node = Node(new_data)\n",
        "    if self.head is None:\n",
        "      self.head = new_node\n",
        "    else:\n",
        "      tmp = self.head\n",
        "      self.head = new_node\n",
        "      new_node.next = tmp\n",
        "\n",
        "    self.size += 1\n",
        "\n",
        "  def pop_left(self):\n",
        "    if self.size==0:\n",
        "      print(\"List is empty\")\n",
        "    else:\n",
        "      self.size -= 1\n",
        "      self.head = self.head.next\n",
        "\n",
        "class Stack:\n",
        "    def __init__(self):\n",
        "        self.s = SinglyLinkedList()\n",
        "\n",
        "    def size(self):\n",
        "        return (self.s.size)\n",
        "\n",
        "    def isEmpty(self):\n",
        "      if self.size()==0:\n",
        "        return True\n",
        "      else:\n",
        "        return False\n",
        "\n",
        "    # Push data to the top of the stack\n",
        "    def push(self, data):\n",
        "        self.s.append_left(data)\n",
        "\n",
        "    def pop(self):\n",
        "         self.s.pop_left()\n",
        "\n",
        "    def peek(self):\n",
        "      if self.isEmpty():\n",
        "        print(\"Stack is empty\")\n",
        "        return\n",
        "      else:\n",
        "        return self.s.head.data\n",
        "\n",
        "    def printStack(self):\n",
        "       if self.isEmpty():\n",
        "        print(\"Stack is empty\")\n",
        "       else:\n",
        "        self.s.print_all()"
      ],
      "metadata": {
        "id": "FxUApULv2pAs"
      },
      "execution_count": 41,
      "outputs": []
    },
    {
      "cell_type": "code",
      "source": [
        "#p-1:\n",
        "def isPalindrome(stk):\n",
        "  temp=Stack()\n",
        "  stk1=Stack()\n",
        "  while not stk.isEmpty():\n",
        "    temp.push(stk.peek())\n",
        "    stk1.push(stk.peek())\n",
        "    stk.pop()\n",
        "\n",
        "  temp.printStack()\n",
        "  while not stk1.isEmpty():\n",
        "    stk.push(stk1.peek())\n",
        "    stk1.pop()\n",
        "\n",
        "  while not stk.isEmpty():\n",
        "    if stk.peek()!=temp.peek():\n",
        "      return False\n",
        "    stk.pop()\n",
        "    temp.pop()\n",
        "  return True\n",
        "\n",
        "s=Stack()\n",
        "s.push(1)\n",
        "s.push(2)\n",
        "s.push(3)\n",
        "s.push(2)\n",
        "s.push(4)\n",
        "s.printStack()\n",
        "print(isPalindrome(s))"
      ],
      "metadata": {
        "colab": {
          "base_uri": "https://localhost:8080/"
        },
        "id": "At_3lK542reC",
        "outputId": "3921b48a-8c26-4db3-ef51-0ef068083c2c"
      },
      "execution_count": 43,
      "outputs": [
        {
          "output_type": "stream",
          "name": "stdout",
          "text": [
            "4->2->3->2->1->\n",
            "1->2->3->2->4->\n",
            "False\n"
          ]
        }
      ]
    },
    {
      "cell_type": "code",
      "source": [
        "#p-2\n",
        "def removeLargest(s):\n",
        "    helpingstack1 = Stack()\n",
        "    if s.isEmpty():\n",
        "      print(\"Stack is empty!!!\")\n",
        "      return\n",
        "    max = s.peek()\n",
        "    while not s.isEmpty():\n",
        "        val = s.peek()\n",
        "\n",
        "        if val > max:\n",
        "          max  = val\n",
        "        helpingstack1.push(val)\n",
        "        s.pop()\n",
        "\n",
        "    while not helpingstack1.isEmpty():\n",
        "      val = helpingstack1.peek()\n",
        "      helpingstack1.pop()\n",
        "\n",
        "      if max != val :\n",
        "         s.push(val)\n",
        "    return s\n",
        "\n",
        "stack1 = Stack()\n",
        "stack1.push(44)\n",
        "stack1.push(91)\n",
        "stack1.push(22)\n",
        "stack1.push(44)\n",
        "stack1.push(97)\n",
        "stack1.push(56)\n",
        "stack1.push(53)\n",
        "stack1.push(23)\n",
        "\n",
        "stack1.printStack()\n",
        "newStk=removeLargest(stack1)\n",
        "newStk.printStack()"
      ],
      "metadata": {
        "colab": {
          "base_uri": "https://localhost:8080/"
        },
        "id": "AlFLTqT18gkT",
        "outputId": "1edf960d-db65-4c87-dda1-2e2926b8ab95"
      },
      "execution_count": 44,
      "outputs": [
        {
          "output_type": "stream",
          "name": "stdout",
          "text": [
            "23->53->56->97->44->22->91->44->\n",
            "23->53->56->44->22->91->44->\n"
          ]
        }
      ]
    },
    {
      "cell_type": "code",
      "source": [
        "#p-3\n",
        "\n",
        "def isBalanced(str):\n",
        "    open_list = ['(','{','[']\n",
        "    close_list = [')','}',']']\n",
        "\n",
        "    s = Stack()\n",
        "\n",
        "    for i in str:\n",
        "        if i in open_list:\n",
        "            s.push(i)\n",
        "        if i in close_list:\n",
        "            close_pos = close_list.index(i)\n",
        "            if s.isEmpty() == False:\n",
        "                open_pos = open_list.index(s.peek())\n",
        "            if s.size() > 0 and open_pos == close_pos:\n",
        "                s.pop()\n",
        "            else:\n",
        "                return False\n",
        "    if s.size() == 0:\n",
        "        return True\n",
        "    else:\n",
        "        return False\n",
        "\n",
        "str1='{[(]}'\n",
        "print(isBalanced(str1))\n",
        "str1='{[]}'\n",
        "print(isBalanced(str1))\n"
      ],
      "metadata": {
        "colab": {
          "base_uri": "https://localhost:8080/"
        },
        "id": "mtBMpzjSCQyq",
        "outputId": "d2ba5316-8002-477f-acde-e705548a0a6f"
      },
      "execution_count": 45,
      "outputs": [
        {
          "output_type": "stream",
          "name": "stdout",
          "text": [
            "False\n",
            "True\n"
          ]
        }
      ]
    },
    {
      "cell_type": "code",
      "source": [
        "class Queue:\n",
        "    def __init__(self):\n",
        "        self.q_list = SinglyLinkedList()\n",
        "\n",
        "    def size(self):\n",
        "        return self.q_list.size\n",
        "\n",
        "    def isEmpty(self):\n",
        "        if self.q_list.size == 0:\n",
        "            return True\n",
        "        else:\n",
        "            return False\n",
        "\n",
        "    def enqueue(self,data):\n",
        "        self.q_list.append(data)\n",
        "\n",
        "    def dequeue(self):\n",
        "        if self.isEmpty() == False:\n",
        "            self.q_list.pop_left()\n",
        "\n",
        "    def peek(self):\n",
        "        if self.isEmpty() == False:\n",
        "            return self.q_list.head.data\n",
        "\n",
        "    def print_queue(self):\n",
        "        if self.isEmpty() == True:\n",
        "            print('Empty Queue')\n",
        "        else:\n",
        "            print('current queue=>', end=' ')\n",
        "            self.q_list.print_all()\n",
        "\n",
        "\n",
        "q1 = Queue()"
      ],
      "metadata": {
        "id": "b3WmfE0xC_7u"
      },
      "execution_count": 46,
      "outputs": []
    },
    {
      "cell_type": "code",
      "source": [
        "#p-4\n",
        "\n",
        "def reverseKElements(k,qu):\n",
        "    if k < qu.size():\n",
        "        stk= Stack()\n",
        "        for i in range(1,k+1):\n",
        "            stk.push(qu.peek())\n",
        "            qu.dequeue()\n",
        "        while stk.isEmpty() == False:\n",
        "            qu.enqueue(stk.peek())\n",
        "            stk.pop()\n",
        "\n",
        "q1 = Queue()\n",
        "q1.enqueue(10)\n",
        "q1.enqueue(20)\n",
        "q1.enqueue(30)\n",
        "q1.enqueue(40)\n",
        "q1.enqueue(50)\n",
        "q1.enqueue(60)\n",
        "q1.enqueue(70)\n",
        "q1.enqueue(80)\n",
        "q1.enqueue(90)\n",
        "q1.print_queue()\n",
        "\n",
        "reverseKElements(5,q1)\n",
        "q1.print_queue()"
      ],
      "metadata": {
        "colab": {
          "base_uri": "https://localhost:8080/"
        },
        "id": "RfY5J07rCrJU",
        "outputId": "acbc665b-5054-434c-a199-5cd91208959b"
      },
      "execution_count": 47,
      "outputs": [
        {
          "output_type": "stream",
          "name": "stdout",
          "text": [
            "current queue=> 10->20->30->40->50->60->70->80->90->\n",
            "current queue=> 60->70->80->90->50->40->30->20->10->\n"
          ]
        }
      ]
    },
    {
      "cell_type": "code",
      "source": [
        "#p-5\n",
        "\n",
        "def isQueuePalindrome(q):\n",
        "  temp=Stack()\n",
        "  q1=Queue()\n",
        "  while not q.isEmpty():\n",
        "    temp.push(q.peek())\n",
        "    q1.enqueue(q.peek())\n",
        "    q.dequeue()\n",
        "\n",
        "  temp.printStack()\n",
        "  while not q1.isEmpty():\n",
        "    q.enqueue(q1.peek())\n",
        "    q1.dequeue()\n",
        "\n",
        "  while not q.isEmpty():\n",
        "    if q.peek()!=temp.peek():\n",
        "      return False\n",
        "    q.dequeue()\n",
        "    temp.pop()\n",
        "  return True\n",
        "\n",
        "\n",
        "q1=Queue()\n",
        "q1.enqueue(1)\n",
        "q1.enqueue(2)\n",
        "q1.enqueue(3)\n",
        "q1.enqueue(2)\n",
        "q1.enqueue(1)\n",
        "q1.print_queue()\n",
        "print(isQueuePalindrome(q1))"
      ],
      "metadata": {
        "colab": {
          "base_uri": "https://localhost:8080/"
        },
        "id": "cQV-pW_9EYTC",
        "outputId": "2d681d32-817a-4bc9-dadc-99fbc6e0068f"
      },
      "execution_count": 51,
      "outputs": [
        {
          "output_type": "stream",
          "name": "stdout",
          "text": [
            "current queue=> 1->2->3->2->1->\n",
            "1->2->3->2->1->\n",
            "True\n"
          ]
        }
      ]
    }
  ]
}